{
  "nbformat": 4,
  "nbformat_minor": 0,
  "metadata": {
    "accelerator": "GPU",
    "colab": {
      "name": "Final_LSTM_glove.ipynb",
      "provenance": []
    },
    "kernelspec": {
      "display_name": "Python 3",
      "name": "python3"
    }
  },
  "cells": [
    {
      "cell_type": "code",
      "metadata": {
        "id": "YI_Kzb-93_oR"
      },
      "source": [
        "import sys, os, re, csv, codecs, numpy as np, pandas as pd\n",
        "import matplotlib.pyplot as plt\n",
        "%matplotlib inline\n",
        "from keras.preprocessing.text import Tokenizer\n",
        "from keras.preprocessing.sequence import pad_sequences\n",
        "from keras.layers import Dense, Input, LSTM, Embedding, Dropout, Activation\n",
        "from keras.layers import Bidirectional, GlobalMaxPool1D\n",
        "from keras.datasets import imdb\n",
        "from keras.models import Model,Sequential\n",
        "from keras import initializers, regularizers, constraints, optimizers, layers"
      ],
      "execution_count": null,
      "outputs": []
    },
    {
      "cell_type": "code",
      "metadata": {
        "id": "KNNsUSik4BlN"
      },
      "source": [
        "import requests,io\n",
        "from zipfile import ZipFile\n",
        "r = requests.get('https://github.com/pulkitt15/imdb-dataset/blob/main/imdb.zip?raw=true')\n",
        "\n",
        "with ZipFile(io.BytesIO(r.content), 'r') as zip_ref:\n",
        "    zip_ref.extractall('/content/Imdb-dataset')"
      ],
      "execution_count": null,
      "outputs": []
    },
    {
      "cell_type": "code",
      "metadata": {
        "id": "zrM6n_n44E-p"
      },
      "source": [
        "#!/usr/bin/env python3\n",
        "# -*- coding: utf-8 -*-\n",
        "import nltk\n",
        "from nltk.corpus import stopwords\n",
        "from nltk.stem.porter import PorterStemmer\n",
        "from bs4 import BeautifulSoup\n",
        "from nltk.tokenize.toktok import ToktokTokenizer\n",
        "import re\n",
        "import os\n",
        "\n",
        "nltk.download('stopwords')\n",
        "tokenizer=ToktokTokenizer()\n",
        "\n",
        "def review_to_words(text):\n",
        "    soup = BeautifulSoup(text,\"html.parser\")\n",
        "    text=soup.get_text()\n",
        "    text = re.sub('\\[[^]]*\\]', '', text)\n",
        "    text = re.sub(r\"[^a-zA-Z]\",\" \",text)\n",
        "    tokens = tokenizer.tokenize(text.lower())\n",
        "    tokens = [token.strip() for token in tokens]\n",
        "    ps=PorterStemmer()\n",
        "    stemmed_tokens = [ps.stem(word) for word in tokens]\n",
        "    stop=set(stopwords.words('english'))\n",
        "    filtered_tokens = [token for token in stemmed_tokens if token not in stop]\n",
        "    return ' '.join(filtered_tokens)\n",
        "\n",
        "\n",
        "def get_data():\n",
        "    filenames = []\n",
        "    for _,_,file in os.walk('/content/Imdb-dataset/imdb/pos'):\n",
        "        filenames = file\n",
        "    x_train=[]\n",
        "    y_train=[]\n",
        "   \n",
        "    for filename in filenames:\n",
        "         with open('/content/Imdb-dataset/imdb/pos/'+filename, 'r') as f:\n",
        "             corpus = f.read()\n",
        "             x_train.append(corpus)\n",
        "             y_train.append(int(filename[-5]))\n",
        "            \n",
        "\n",
        "             \n",
        "                    \n",
        "    for _,_,file in os.walk('/content/Imdb-dataset/imdb/neg'):\n",
        "        filenames = file\n",
        "    for filename in filenames:\n",
        "         with open('/content/Imdb-dataset/imdb/neg/'+filename, 'r') as f:\n",
        "             corpus = f.read()\n",
        "             x_train.append(corpus)\n",
        "             y_train.append(int(filename[-5]))\n",
        "            \n",
        "\n",
        "    return x_train,y_train"
      ],
      "execution_count": null,
      "outputs": []
    },
    {
      "cell_type": "code",
      "metadata": {
        "id": "TT4PTuYd4Oet"
      },
      "source": [
        "reviews,y = get_data()\n",
        "X = []\n",
        "for x in reviews:\n",
        "    X.append(review_to_words(x))"
      ],
      "execution_count": null,
      "outputs": []
    },
    {
      "cell_type": "code",
      "metadata": {
        "id": "Un_svnjI4QwH"
      },
      "source": [
        "max_features = 10000\n",
        "tokenizer = Tokenizer(num_words=max_features, oov_token=\"<OOV>\")\n",
        "tokenizer.fit_on_texts(X)\n",
        "list_tokenized_train = tokenizer.texts_to_sequences(X)"
      ],
      "execution_count": null,
      "outputs": []
    },
    {
      "cell_type": "code",
      "metadata": {
        "id": "oiIK6j7d4ifo"
      },
      "source": [
        "maxlen = 700\n",
        "X_t = pad_sequences(list_tokenized_train, maxlen=maxlen, padding = 'post')"
      ],
      "execution_count": null,
      "outputs": []
    },
    {
      "cell_type": "code",
      "metadata": {
        "id": "5AOhoJ3-4mGo"
      },
      "source": [
        "z=[]\n",
        "for t in y:\n",
        "  if t>=7:\n",
        "    z.append(1)\n",
        "  else:\n",
        "    z.append(0)\n",
        "\n",
        "y = z\n",
        "\n",
        "from sklearn.model_selection import train_test_split\n",
        "\n",
        "X_train_input, X_test_input, y_train, y_test = train_test_split(X_t,y,test_size=0.2,random_state = 2020)\n",
        "\n",
        "X_train = np.array(X_train_input)\n",
        "y_train = np.array(y_train)\n",
        "X_test = np.array(X_test_input)\n",
        "y_test = np.array(y_test)"
      ],
      "execution_count": null,
      "outputs": []
    },
    {
      "cell_type": "code",
      "metadata": {
        "id": "19EGwUj8_m4u"
      },
      "source": [
        "max_review_length = maxlen\n",
        "X_train = pad_sequences(X_train, maxlen=max_review_length)\n",
        "X_test = pad_sequences(X_test, maxlen=max_review_length)"
      ],
      "execution_count": null,
      "outputs": []
    },
    {
      "cell_type": "code",
      "metadata": {
        "id": "t8ZIQQjlDYP2"
      },
      "source": [
        "word_index = imdb.get_word_index(path=\"imdb_word_index.json\")"
      ],
      "execution_count": null,
      "outputs": []
    },
    {
      "cell_type": "code",
      "metadata": {
        "id": "K5yOdil7gB1x"
      },
      "source": [
        "import gensim.models.keyedvectors as word2vec\n",
        "import gc"
      ],
      "execution_count": null,
      "outputs": []
    },
    {
      "cell_type": "code",
      "metadata": {
        "id": "z1L3vwA9iZ9z"
      },
      "source": [
        "gl_path = \"/content/drive/Shareddrives/Imdb-dataset/embeddings/glove.twitter.27B.25d.txt\"\n",
        "ft_path = \"/content/drive/Shareddrives/Imdb-dataset/embeddings/wiki.simple.vec\"\n",
        "wv_path = \"/content/drive/Shareddrives/Imdb-dataset/embeddings/model.bin\""
      ],
      "execution_count": null,
      "outputs": []
    },
    {
      "cell_type": "code",
      "metadata": {
        "id": "0v4X--5vfyhX"
      },
      "source": [
        "def loadEmbeddingMatrix(typeToLoad):\n",
        "        if(typeToLoad==\"glove\"):\n",
        "            EMBEDDING_FILE=gl_path\n",
        "            embed_size = 25\n",
        "        elif(typeToLoad==\"word2vec\"):\n",
        "            word2vecDict = word2vec.KeyedVectors.load_word2vec_format(wv_path, binary=True)\n",
        "            embed_size = 300\n",
        "        elif(typeToLoad==\"fasttext\"):\n",
        "            EMBEDDING_FILE=ft_path\n",
        "            embed_size = 300\n",
        "\n",
        "        if(typeToLoad==\"glove\" or typeToLoad==\"fasttext\" ):\n",
        "            embeddings_index = dict()\n",
        "            f = open(EMBEDDING_FILE)\n",
        "            for line in f:\n",
        "                values = line.split()\n",
        "                word = values[0]\n",
        "                try:\n",
        "                  coefs = np.asarray(values[1:], dtype='float32')\n",
        "                except:\n",
        "                  continue\n",
        "                if len(coefs) != embed_size:\n",
        "                  continue\n",
        "                embeddings_index[word] = coefs \n",
        "                \n",
        "            f.close()\n",
        "            print('Loaded %s word vectors.' % len(embeddings_index))\n",
        "        else:\n",
        "            embeddings_index = dict()\n",
        "            for word in word2vecDict.wv.vocab:\n",
        "                embeddings_index[word] = word2vecDict.word_vec(word)\n",
        "            print('Loaded %s word vectors.' % len(embeddings_index))\n",
        "            \n",
        "        gc.collect()\n",
        "        all_embs = np.stack(list(embeddings_index.values()))\n",
        "        emb_mean,emb_std = all_embs.mean(), all_embs.std()\n",
        "        \n",
        "        nb_words = len(word_index)\n",
        "        embedding_matrix = np.random.normal(emb_mean, emb_std, (nb_words, embed_size))\n",
        "        gc.collect()\n",
        "\n",
        "        embeddedCount = 0\n",
        "        for word, i in word_index.items():\n",
        "            i-=1\n",
        "            embedding_vector = embeddings_index.get(word)\n",
        "            if embedding_vector is not None: \n",
        "                embedding_matrix[i] = embedding_vector\n",
        "                embeddedCount+=1\n",
        "        print('total embedded:',embeddedCount,'common words')\n",
        "        \n",
        "        del(embeddings_index)\n",
        "        gc.collect()\n",
        "        \n",
        "        return embedding_matrix"
      ],
      "execution_count": null,
      "outputs": []
    },
    {
      "cell_type": "code",
      "metadata": {
        "colab": {
          "base_uri": "https://localhost:8080/"
        },
        "id": "9mCTaWADi1Om",
        "outputId": "91c0dfe8-8a0e-4c64-9023-69346a2f747f"
      },
      "source": [
        "embedding_matrix = loadEmbeddingMatrix('glove')"
      ],
      "execution_count": null,
      "outputs": [
        {
          "output_type": "stream",
          "text": [
            "Loaded 1193514 word vectors.\n",
            "total embedded: 52944 common words\n"
          ],
          "name": "stdout"
        }
      ]
    },
    {
      "cell_type": "code",
      "metadata": {
        "colab": {
          "base_uri": "https://localhost:8080/"
        },
        "id": "keM65pzemwo3",
        "outputId": "1d1b111b-7ffb-46bc-fa99-271f7315c7e3"
      },
      "source": [
        "embedding_matrix.shape"
      ],
      "execution_count": null,
      "outputs": [
        {
          "output_type": "execute_result",
          "data": {
            "text/plain": [
              "(88584, 25)"
            ]
          },
          "metadata": {
            "tags": []
          },
          "execution_count": 17
        }
      ]
    },
    {
      "cell_type": "code",
      "metadata": {
        "colab": {
          "base_uri": "https://localhost:8080/"
        },
        "id": "i8-8hLhGACk3",
        "outputId": "ca448ff3-745e-448f-c4d1-fe3b2d8a3139"
      },
      "source": [
        "embedding_vector_length = 32\n",
        "\n",
        "model = Sequential()\n",
        "model.add(Embedding(len(word_index), embedding_matrix.shape[1],input_length = max_review_length,weights=[embedding_matrix],trainable=False))\n",
        "model.add(Dropout(0.5))\n",
        "model.add(Bidirectional(LSTM(64)))\n",
        "model.add(Dense(units=256, activation='relu'))\n",
        "model.add(Dropout(0.4))\n",
        "model.add(Dense(units=1, activation='sigmoid'))\n",
        "model.summary()\n",
        "opt = optimizers.Adam(learning_rate=0.003)\n",
        "model.compile(loss='binary_crossentropy',\n",
        "              optimizer=opt,\n",
        "              metrics=['accuracy'])"
      ],
      "execution_count": null,
      "outputs": [
        {
          "output_type": "stream",
          "text": [
            "Model: \"sequential_1\"\n",
            "_________________________________________________________________\n",
            "Layer (type)                 Output Shape              Param #   \n",
            "=================================================================\n",
            "embedding_1 (Embedding)      (None, 700, 25)           2214600   \n",
            "_________________________________________________________________\n",
            "dropout_2 (Dropout)          (None, 700, 25)           0         \n",
            "_________________________________________________________________\n",
            "bidirectional_1 (Bidirection (None, 128)               46080     \n",
            "_________________________________________________________________\n",
            "dense_2 (Dense)              (None, 256)               33024     \n",
            "_________________________________________________________________\n",
            "dropout_3 (Dropout)          (None, 256)               0         \n",
            "_________________________________________________________________\n",
            "dense_3 (Dense)              (None, 1)                 257       \n",
            "=================================================================\n",
            "Total params: 2,293,961\n",
            "Trainable params: 2,293,961\n",
            "Non-trainable params: 0\n",
            "_________________________________________________________________\n"
          ],
          "name": "stdout"
        }
      ]
    },
    {
      "cell_type": "code",
      "metadata": {
        "colab": {
          "base_uri": "https://localhost:8080/"
        },
        "id": "KM50w6Yfq2Yg",
        "outputId": "0a5e772d-756f-4549-dcbd-2e6a7eee3161"
      },
      "source": [
        "train_history = model.fit(X_train, y_train, batch_size=32,\n",
        "                          epochs=10, verbose=2,\n",
        "                          validation_split=0.2)"
      ],
      "execution_count": null,
      "outputs": [
        {
          "output_type": "stream",
          "text": [
            "Epoch 1/10\n",
            "500/500 - 34s - loss: 0.1838 - accuracy: 0.9275 - val_loss: 0.2855 - val_accuracy: 0.9022\n",
            "Epoch 2/10\n",
            "500/500 - 34s - loss: 0.1758 - accuracy: 0.9311 - val_loss: 0.2799 - val_accuracy: 0.9013\n",
            "Epoch 3/10\n",
            "500/500 - 33s - loss: 0.1703 - accuracy: 0.9359 - val_loss: 0.2843 - val_accuracy: 0.8997\n",
            "Epoch 4/10\n",
            "500/500 - 33s - loss: 0.1617 - accuracy: 0.9384 - val_loss: 0.2646 - val_accuracy: 0.8978\n",
            "Epoch 5/10\n",
            "500/500 - 33s - loss: 0.1476 - accuracy: 0.9421 - val_loss: 0.3292 - val_accuracy: 0.8917\n",
            "Epoch 6/10\n",
            "500/500 - 33s - loss: 0.1462 - accuracy: 0.9432 - val_loss: 0.2926 - val_accuracy: 0.9020\n",
            "Epoch 7/10\n",
            "500/500 - 33s - loss: 0.1417 - accuracy: 0.9465 - val_loss: 0.3235 - val_accuracy: 0.8992\n",
            "Epoch 8/10\n",
            "500/500 - 33s - loss: 0.1368 - accuracy: 0.9484 - val_loss: 0.2752 - val_accuracy: 0.9047\n",
            "Epoch 9/10\n",
            "500/500 - 33s - loss: 0.1377 - accuracy: 0.9470 - val_loss: 0.3107 - val_accuracy: 0.8992\n",
            "Epoch 10/10\n",
            "500/500 - 33s - loss: 0.1214 - accuracy: 0.9544 - val_loss: 0.3112 - val_accuracy: 0.8982\n"
          ],
          "name": "stdout"
        }
      ]
    },
    {
      "cell_type": "code",
      "metadata": {
        "colab": {
          "base_uri": "https://localhost:8080/"
        },
        "id": "HLuT4jrdq6wE",
        "outputId": "2a5f974e-08e8-4e02-e27b-53b2cad496ea"
      },
      "source": [
        "scores = model.evaluate(X_test, y_test, verbose=1)"
      ],
      "execution_count": null,
      "outputs": [
        {
          "output_type": "stream",
          "text": [
            "157/157 [==============================] - 3s 19ms/step - loss: 0.3284 - accuracy: 0.8928\n"
          ],
          "name": "stdout"
        }
      ]
    }
  ]
}