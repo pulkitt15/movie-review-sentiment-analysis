{
  "nbformat": 4,
  "nbformat_minor": 0,
  "metadata": {
    "colab": {
      "name": "LSTM_without_pretrained_embeddings.ipynb",
      "provenance": []
    },
    "kernelspec": {
      "name": "python3",
      "display_name": "Python 3"
    },
    "accelerator": "GPU"
  },
  "cells": [
    {
      "cell_type": "code",
      "metadata": {
        "id": "yHfyLzvkVKWB"
      },
      "source": [
        "import sys, os, re, csv, codecs, numpy as np, pandas as pd\n",
        "import matplotlib.pyplot as plt\n",
        "%matplotlib inline\n",
        "from keras.preprocessing.text import Tokenizer\n",
        "from keras.preprocessing.sequence import pad_sequences\n",
        "from keras.layers import Dense, Input, LSTM, Embedding, Dropout, Activation\n",
        "from keras.layers import Bidirectional, GlobalMaxPool1D\n",
        "from keras.models import Model,Sequential\n",
        "from keras import initializers, regularizers, constraints, optimizers, layers"
      ],
      "execution_count": 1,
      "outputs": []
    },
    {
      "cell_type": "code",
      "metadata": {
        "id": "1EBU-DeODc4Q"
      },
      "source": [
        "import requests,io\n",
        "from zipfile import ZipFile\n",
        "r = requests.get('https://github.com/pulkitt15/imdb-dataset/blob/main/imdb.zip?raw=true')\n",
        "\n",
        "with ZipFile(io.BytesIO(r.content), 'r') as zip_ref:\n",
        "    zip_ref.extractall('/content/Imdb-dataset')"
      ],
      "execution_count": null,
      "outputs": []
    },
    {
      "cell_type": "code",
      "metadata": {
        "id": "Eavo7QBmGLQn",
        "outputId": "a512384d-3d7b-4737-b593-0e487204a27d",
        "colab": {
          "base_uri": "https://localhost:8080/"
        }
      },
      "source": [
        "#!/usr/bin/env python3\n",
        "# -*- coding: utf-8 -*-\n",
        "import nltk\n",
        "from nltk.corpus import stopwords\n",
        "from nltk.stem.porter import PorterStemmer\n",
        "from bs4 import BeautifulSoup\n",
        "from nltk.tokenize.toktok import ToktokTokenizer\n",
        "import re\n",
        "import os\n",
        "\n",
        "nltk.download('stopwords')\n",
        "tokenizer=ToktokTokenizer()\n",
        "\n",
        "def review_to_words(text):\n",
        "    soup = BeautifulSoup(text,\"html.parser\")\n",
        "    text=soup.get_text()\n",
        "    text = re.sub('\\[[^]]*\\]', '', text)\n",
        "    text = re.sub(r\"[^a-zA-Z]\",\" \",text)\n",
        "    tokens = tokenizer.tokenize(text.lower())\n",
        "    tokens = [token.strip() for token in tokens]\n",
        "    ps=PorterStemmer()\n",
        "    stemmed_tokens = [ps.stem(word) for word in tokens]\n",
        "    stop=set(stopwords.words('english'))\n",
        "    filtered_tokens = [token for token in stemmed_tokens if token not in stop]\n",
        "    return ' '.join(filtered_tokens)\n",
        "\n",
        "\n",
        "def get_data():\n",
        "    filenames = []\n",
        "    for _,_,file in os.walk('/content/Imdb-dataset/imdb/pos'):\n",
        "        filenames = file\n",
        "    x_train=[]\n",
        "    y_train=[]\n",
        "   \n",
        "    for filename in filenames:\n",
        "         with open('/content/Imdb-dataset/imdb/pos/'+filename, 'r') as f:\n",
        "             corpus = f.read()\n",
        "             x_train.append(corpus)\n",
        "             y_train.append(int(filename[-5]))\n",
        "            \n",
        "\n",
        "             \n",
        "                    \n",
        "    for _,_,file in os.walk('/content/Imdb-dataset/imdb/neg'):\n",
        "        filenames = file\n",
        "    for filename in filenames:\n",
        "         with open('/content/Imdb-dataset/imdb/neg/'+filename, 'r') as f:\n",
        "             corpus = f.read()\n",
        "             x_train.append(corpus)\n",
        "             y_train.append(int(filename[-5]))\n",
        "            \n",
        "\n",
        "    return x_train,y_train"
      ],
      "execution_count": null,
      "outputs": [
        {
          "output_type": "stream",
          "text": [
            "[nltk_data] Downloading package stopwords to /root/nltk_data...\n",
            "[nltk_data]   Package stopwords is already up-to-date!\n"
          ],
          "name": "stdout"
        }
      ]
    },
    {
      "cell_type": "code",
      "metadata": {
        "id": "BX04PpOVGPRC"
      },
      "source": [
        "reviews,y = get_data()\n",
        "X = []\n",
        "for x in reviews:\n",
        "    X.append(review_to_words(x))"
      ],
      "execution_count": null,
      "outputs": []
    },
    {
      "cell_type": "code",
      "metadata": {
        "id": "88Og-wxmL4vo"
      },
      "source": [
        "max_features = 10000\n",
        "tokenizer = Tokenizer(num_words=max_features, oov_token=\"<OOV>\")\n",
        "tokenizer.fit_on_texts(X)\n",
        "list_tokenized_train = tokenizer.texts_to_sequences(X)"
      ],
      "execution_count": null,
      "outputs": []
    },
    {
      "cell_type": "code",
      "metadata": {
        "id": "PSvXQSM9MZC2"
      },
      "source": [
        "maxlen = 700\n",
        "X_t = pad_sequences(list_tokenized_train, maxlen=maxlen, padding = 'post')"
      ],
      "execution_count": null,
      "outputs": []
    },
    {
      "cell_type": "code",
      "metadata": {
        "id": "aHxHuTYFNdzK"
      },
      "source": [
        "z=[]\n",
        "for t in y:\n",
        "  if t>=7:\n",
        "    z.append(1)\n",
        "  else:\n",
        "    z.append(0)\n",
        "\n",
        "y = z"
      ],
      "execution_count": null,
      "outputs": []
    },
    {
      "cell_type": "code",
      "metadata": {
        "id": "HAQIhFY0NDqY"
      },
      "source": [
        "from sklearn.model_selection import train_test_split\n",
        "\n",
        "X_train_input, X_test_input, y_train, y_test = train_test_split(X_t,y,test_size=0.2,random_state = 2020)"
      ],
      "execution_count": null,
      "outputs": []
    },
    {
      "cell_type": "code",
      "metadata": {
        "id": "vTyUB9ZDN_IZ"
      },
      "source": [
        "X_train = np.array(X_train_input)\n",
        "y_train = np.array(y_train)\n",
        "X_test = np.array(X_test_input)\n",
        "y_test = np.array(y_test)"
      ],
      "execution_count": null,
      "outputs": []
    },
    {
      "cell_type": "code",
      "metadata": {
        "id": "ragzcyGM5Hjh"
      },
      "source": [
        "max_review_length = 700\n",
        "X_train = pad_sequences(X_train, maxlen=max_review_length)\n",
        "X_test = pad_sequences(X_test, maxlen=max_review_length)"
      ],
      "execution_count": 5,
      "outputs": []
    },
    {
      "cell_type": "code",
      "metadata": {
        "id": "qmKm1n7y5yS0",
        "outputId": "481c82b0-d90e-4a95-bca9-7b50d15d516c",
        "colab": {
          "base_uri": "https://localhost:8080/"
        }
      },
      "source": [
        "embedding_vector_length = 32\n",
        "\n",
        "model = Sequential()\n",
        "model.add(Embedding(input_dim=max_features, output_dim=embedding_vector_length, input_length=max_review_length))\n",
        "model.add(Dropout(0.5))\n",
        "model.add(Bidirectional(LSTM(64)))\n",
        "model.add(Dense(units=256, activation='relu'))\n",
        "model.add(Dropout(0.4))\n",
        "model.add(Dense(units=1, activation='sigmoid'))\n",
        "model.summary()\n",
        "opt = optimizers.Adam(learning_rate=0.003)\n",
        "model.compile(loss='binary_crossentropy',\n",
        "              optimizer=opt,\n",
        "              metrics=['accuracy'])"
      ],
      "execution_count": 6,
      "outputs": [
        {
          "output_type": "stream",
          "text": [
            "Model: \"sequential\"\n",
            "_________________________________________________________________\n",
            "Layer (type)                 Output Shape              Param #   \n",
            "=================================================================\n",
            "embedding (Embedding)        (None, 700, 32)           128000    \n",
            "_________________________________________________________________\n",
            "dropout (Dropout)            (None, 700, 32)           0         \n",
            "_________________________________________________________________\n",
            "bidirectional (Bidirectional (None, 128)               49664     \n",
            "_________________________________________________________________\n",
            "dense (Dense)                (None, 256)               33024     \n",
            "_________________________________________________________________\n",
            "dropout_1 (Dropout)          (None, 256)               0         \n",
            "_________________________________________________________________\n",
            "dense_1 (Dense)              (None, 1)                 257       \n",
            "=================================================================\n",
            "Total params: 210,945\n",
            "Trainable params: 210,945\n",
            "Non-trainable params: 0\n",
            "_________________________________________________________________\n"
          ],
          "name": "stdout"
        }
      ]
    },
    {
      "cell_type": "code",
      "metadata": {
        "id": "dofJ0T9650Tw",
        "outputId": "37d0dc11-0156-4694-e2d4-a7aa53e4753e",
        "colab": {
          "base_uri": "https://localhost:8080/"
        }
      },
      "source": [
        "train_history = model.fit(X_train, y_train, batch_size=32,\n",
        "                          epochs=10, verbose=2,\n",
        "                          validation_split=0.2)"
      ],
      "execution_count": 7,
      "outputs": [
        {
          "output_type": "stream",
          "text": [
            "Epoch 1/10\n",
            "469/469 - 25s - loss: 0.5126 - accuracy: 0.7411 - val_loss: 0.5961 - val_accuracy: 0.7195\n",
            "Epoch 2/10\n",
            "469/469 - 24s - loss: 0.5027 - accuracy: 0.7574 - val_loss: 0.4802 - val_accuracy: 0.8075\n",
            "Epoch 3/10\n",
            "469/469 - 24s - loss: 0.3545 - accuracy: 0.8566 - val_loss: 0.3366 - val_accuracy: 0.8555\n",
            "Epoch 4/10\n",
            "469/469 - 24s - loss: 0.2491 - accuracy: 0.9033 - val_loss: 0.3026 - val_accuracy: 0.8696\n",
            "Epoch 5/10\n",
            "469/469 - 24s - loss: 0.2109 - accuracy: 0.9179 - val_loss: 0.3487 - val_accuracy: 0.8683\n",
            "Epoch 6/10\n",
            "469/469 - 24s - loss: 0.1857 - accuracy: 0.9261 - val_loss: 0.3389 - val_accuracy: 0.8712\n",
            "Epoch 7/10\n",
            "469/469 - 24s - loss: 0.1593 - accuracy: 0.9384 - val_loss: 0.3324 - val_accuracy: 0.8792\n",
            "Epoch 8/10\n",
            "469/469 - 24s - loss: 0.1420 - accuracy: 0.9462 - val_loss: 0.3439 - val_accuracy: 0.8773\n",
            "Epoch 9/10\n",
            "469/469 - 24s - loss: 0.1301 - accuracy: 0.9500 - val_loss: 0.3339 - val_accuracy: 0.8792\n",
            "Epoch 10/10\n",
            "469/469 - 24s - loss: 0.1167 - accuracy: 0.9572 - val_loss: 0.4709 - val_accuracy: 0.8779\n"
          ],
          "name": "stdout"
        }
      ]
    },
    {
      "cell_type": "code",
      "metadata": {
        "id": "Lx21BHkg7HeS",
        "outputId": "4e89801b-4c72-4190-fd4b-6db626c49786",
        "colab": {
          "base_uri": "https://localhost:8080/"
        }
      },
      "source": [
        "scores = model.evaluate(X_test, y_test, verbose=1)\n"
      ],
      "execution_count": 8,
      "outputs": [
        {
          "output_type": "stream",
          "text": [
            "196/196 [==============================] - 5s 23ms/step - loss: 0.4312 - accuracy: 0.8923\n"
          ],
          "name": "stdout"
        }
      ]
    }
  ]
}